{
  "nbformat": 4,
  "nbformat_minor": 0,
  "metadata": {
    "colab": {
      "provenance": [],
      "authorship_tag": "ABX9TyNdjBlQJ9nmkv+7NqCCxL5I",
      "include_colab_link": true
    },
    "kernelspec": {
      "name": "python3",
      "display_name": "Python 3"
    },
    "language_info": {
      "name": "python"
    }
  },
  "cells": [
    {
      "cell_type": "markdown",
      "metadata": {
        "id": "view-in-github",
        "colab_type": "text"
      },
      "source": [
        "<a href=\"https://colab.research.google.com/github/rnlchr/CPE311/blob/main/PRELIMS/HOA_4_1_TOWER_OF_HANOI.ipynb\" target=\"_parent\"><img src=\"https://colab.research.google.com/assets/colab-badge.svg\" alt=\"Open In Colab\"/></a>"
      ]
    },
    {
      "cell_type": "markdown",
      "source": [
        "**Intended Learning Outcomes**\n",
        "\n",
        " Analyze and solve computational problems using problem solving methodologies and decomposition"
      ],
      "metadata": {
        "id": "xoXJkmNOKwaL"
      }
    },
    {
      "cell_type": "markdown",
      "source": [
        "**Objectives**\n",
        "\n",
        "Introduce students to the Tower of Hanoi Problem;\n",
        "\n",
        "Apply the fundamentals of logical and algorithmic thinking;\n",
        "\n",
        "Solve the Tower of Hanoi Problem using Python."
      ],
      "metadata": {
        "id": "McVKqyGqKwty"
      }
    },
    {
      "cell_type": "markdown",
      "source": [
        "Discussion\n",
        "The Tower of Hanoi is a mathematical puzzle invented by the French mathematician Edouard LucasLinks to an external site. in 1883.\n",
        "\n",
        "There are three pegs, source(A), Auxiliary (B) and Destination(C).\n",
        "Peg A contains a set of disks stacked to resemble a tower, with the largest disk at the bottom and the smallest disk at the top.\n",
        "figure 1 Illustrate the initial configuration of the pegs for 3 disks.\n",
        "The objective is to transfer the entire tower of disks in peg A to peg C maintaining the same order of the disks.\n",
        "\n",
        "Obeying the following rules:\n",
        "\n",
        "Only one disk can be transfer at a time.\n",
        "Each move consists of taking the upper disk from one of the peg and placing it on the top of another peg i.e. a disk can only be moved if it is the uppermost disk of the peg.\n",
        "Never a larger disk is placed on a smaller disk during the transfer.\n",
        "The solution to the puzzle calls for an application of recursive functions and recurrence relations."
      ],
      "metadata": {
        "id": "B20E17HBLJH8"
      }
    },
    {
      "cell_type": "markdown",
      "source": [],
      "metadata": {
        "id": "5jMXRkWjKxJj"
      }
    },
    {
      "cell_type": "code",
      "source": [
        "def TowerOfHanoi(n, Source, Aux, Dest):\n",
        "  if n == 1:\n",
        "    print(\"Move disk 1 from\", Source, \"to\", Dest)\n",
        "    return\n",
        "  TowerOfHanoi(n-1, Source, Dest, Aux)\n",
        "  print(\"Move disk\", n, \"from\", Source, \"to\", Dest)\n",
        "  TowerOfHanoi(n-1, Aux, Source, Dest)\n",
        "\n",
        "n=3\n",
        "TowerOfHanoi(n, 'Source', 'Auxillery', 'Destination')"
      ],
      "metadata": {
        "colab": {
          "base_uri": "https://localhost:8080/"
        },
        "id": "agNGBQSOE70b",
        "outputId": "de391275-37c3-4b49-8db8-1321f371e2da"
      },
      "execution_count": null,
      "outputs": [
        {
          "output_type": "stream",
          "name": "stdout",
          "text": [
            "Move disk 1 from Source to Destination\n",
            "Move disk 2 from Source to Auxillery\n",
            "Move disk 1 from Destination to Auxillery\n",
            "Move disk 3 from Source to Destination\n",
            "Move disk 1 from Auxillery to Source\n",
            "Move disk 2 from Auxillery to Destination\n",
            "Move disk 1 from Source to Destination\n"
          ]
        }
      ]
    },
    {
      "cell_type": "markdown",
      "source": [
        "**Procedure**\n",
        "\n",
        "Implement the algorithm for the Tower of Hanoi Problem as shown above.\n",
        "\n",
        "Write your observations for your written algorithm/solution.\n",
        "\n",
        "\n",
        "**Observation:**\n",
        "\n",
        "The way to solve this is by using basic OOP principals and applying recursion.\n",
        "when we create a function, we add the objects n(the disks), Source, Aux, and Dest(Destination)\n",
        "\n",
        "I set a conditional statement where if the set disks is only 1, it automatically goes to the Destination tower. and then the recursion application where we iterate using n-1 to navigate."
      ],
      "metadata": {
        "id": "XRxACL2YLYzi"
      }
    },
    {
      "cell_type": "markdown",
      "source": [
        "**Supplementary Activity**\n",
        "\n",
        "Explain the programming paradigms/techniques (like recursion or dynamic programming) that you used to solve the given problem.\n",
        "\n",
        "We use the iterative programming with basic functions as well as recursive programming where we call the function on itself. We also implement the time complexity of O(2^n) where n is our number of disks. This Time Complexity is necessary to know our numbers of moves in order to be able to solve the puzzle. Since we have 3 disks in our current program, it will be 2^3-1 which is 7, and when we look at our code, it has Exactly 7 outputs/moves.\n",
        "\n",
        "Provide screenshots of the techniques and provide a quick analysis.\n",
        "\n",
        "Time complexity:\n",
        "\n",
        "![image.png](data:image/png;base64,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)\n",
        "\n",
        "this can be observed on lines 5 and 7 where we call the n-1 object as well as arranging the tower objects in a certain way.\n",
        "\n",
        "this keeps on repeating until conditions are met where n==1 and and disk 1 went to destination along with 4-2 respectively."
      ],
      "metadata": {
        "id": "rkxPD5OXLu6y"
      }
    }
  ]
}