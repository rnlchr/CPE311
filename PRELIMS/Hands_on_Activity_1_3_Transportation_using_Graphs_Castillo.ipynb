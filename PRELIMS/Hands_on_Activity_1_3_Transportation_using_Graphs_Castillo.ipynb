{
  "cells": [
    {
      "cell_type": "markdown",
      "metadata": {
        "id": "view-in-github",
        "colab_type": "text"
      },
      "source": [
        "<a href=\"https://colab.research.google.com/github/rnlchr/CPE311/blob/main/PRELIMS/Hands_on_Activity_1_3_Transportation_using_Graphs_Castillo.ipynb\" target=\"_parent\"><img src=\"https://colab.research.google.com/assets/colab-badge.svg\" alt=\"Open In Colab\"/></a>"
      ]
    },
    {
      "cell_type": "markdown",
      "id": "32f3b9e1",
      "metadata": {
        "id": "32f3b9e1"
      },
      "source": [
        "# Hands-on Activity 1.3 | Transportation using Graphs"
      ]
    },
    {
      "cell_type": "markdown",
      "id": "a51e92c8",
      "metadata": {
        "id": "a51e92c8"
      },
      "source": [
        "#### Objective(s):\n",
        "\n",
        "This activity aims to demonstrate how to solve transportation related problem using Graphs"
      ]
    },
    {
      "cell_type": "markdown",
      "id": "3d40df8b",
      "metadata": {
        "id": "3d40df8b"
      },
      "source": [
        "#### Intended Learning Outcomes (ILOs):\n",
        "* Demonstrate how to compute the shortest path from source to destination using graphs\n",
        "* Apply DFS and BFS to compute the shortest path"
      ]
    },
    {
      "cell_type": "markdown",
      "id": "ed8f98b6",
      "metadata": {
        "id": "ed8f98b6"
      },
      "source": [
        "#### Resources:\n",
        "* Jupyter Notebook"
      ]
    },
    {
      "cell_type": "markdown",
      "id": "36301665",
      "metadata": {
        "id": "36301665"
      },
      "source": [
        "#### Procedures:"
      ]
    },
    {
      "cell_type": "markdown",
      "id": "a2f20257",
      "metadata": {
        "id": "a2f20257"
      },
      "source": [
        "1. Create a Node class"
      ]
    },
    {
      "cell_type": "code",
      "execution_count": null,
      "id": "43c51c35",
      "metadata": {
        "id": "43c51c35"
      },
      "outputs": [],
      "source": [
        "class Node(object):\n",
        "    def __init__(self, name):\n",
        "        \"\"\"Assumes name is a string\"\"\"\n",
        "        self.name = name\n",
        "    def getName(self):\n",
        "        return self.name\n",
        "    def __str__(self):\n",
        "        return self.name"
      ]
    },
    {
      "cell_type": "markdown",
      "id": "d4cd747e",
      "metadata": {
        "id": "d4cd747e"
      },
      "source": [
        "2. Create an Edge class"
      ]
    },
    {
      "cell_type": "code",
      "execution_count": null,
      "id": "b585ad3a",
      "metadata": {
        "id": "b585ad3a"
      },
      "outputs": [],
      "source": [
        "class Edge(object):\n",
        "    def __init__(self, src, dest):\n",
        "        \"\"\"Assumes src and dest are nodes\"\"\"\n",
        "        self.src = src\n",
        "        self.dest = dest\n",
        "    def getSource(self):\n",
        "        return self.src\n",
        "    def getDestination(self):\n",
        "        return self.dest\n",
        "    def __str__(self):\n",
        "        return self.src.getName() + '->' + self.dest.getName()"
      ]
    },
    {
      "cell_type": "markdown",
      "id": "43fb73dd",
      "metadata": {
        "id": "43fb73dd"
      },
      "source": [
        "3. Create Digraph class that add nodes and edges"
      ]
    },
    {
      "cell_type": "code",
      "execution_count": null,
      "id": "68d3735b",
      "metadata": {
        "id": "68d3735b"
      },
      "outputs": [],
      "source": [
        "class Digraph(object):\n",
        "    \"\"\"edges is a dict mapping each node to a list of\n",
        "    its children\"\"\"\n",
        "    def __init__(self):\n",
        "        self.edges = {}\n",
        "    def addNode(self, node):\n",
        "        if node in self.edges:\n",
        "            raise ValueError('Duplicate node')\n",
        "        else:\n",
        "            self.edges[node] = []\n",
        "    def addEdge(self, edge):\n",
        "        src = edge.getSource()\n",
        "        dest = edge.getDestination()\n",
        "        if not (src in self.edges and dest in self.edges):\n",
        "            raise ValueError('Node not in graph')\n",
        "        self.edges[src].append(dest)\n",
        "    def childrenOf(self, node):\n",
        "        return self.edges[node]\n",
        "    def hasNode(self, node):\n",
        "        return node in self.edges\n",
        "    def getNode(self, name):\n",
        "        for n in self.edges:\n",
        "            if n.getName() == name:\n",
        "                return n\n",
        "        raise NameError(name)\n",
        "    def __str__(self):\n",
        "        result = ''\n",
        "        for src in self.edges:\n",
        "            for dest in self.edges[src]:\n",
        "                result = result + src.getName() + '->'\\\n",
        "                         + dest.getName() + '\\n'\n",
        "        return result[:-1] #omit final newline"
      ]
    },
    {
      "cell_type": "markdown",
      "id": "4df80036",
      "metadata": {
        "id": "4df80036"
      },
      "source": [
        "4. Create a Graph class from Digraph class that deifnes the destination and Source"
      ]
    },
    {
      "cell_type": "code",
      "execution_count": null,
      "id": "451f786f",
      "metadata": {
        "id": "451f786f"
      },
      "outputs": [],
      "source": [
        "class Graph(Digraph):\n",
        "    def addEdge(self, edge):\n",
        "        Digraph.addEdge(self, edge)\n",
        "        rev = Edge(edge.getDestination(), edge.getSource())\n",
        "        Digraph.addEdge(self, rev)"
      ]
    },
    {
      "cell_type": "markdown",
      "id": "a1834ccf",
      "metadata": {
        "id": "a1834ccf"
      },
      "source": [
        "5. Create a buildCityGraph method to add nodes (City) and edges   (source to destination)"
      ]
    },
    {
      "cell_type": "code",
      "execution_count": null,
      "id": "048f4f16",
      "metadata": {
        "id": "048f4f16"
      },
      "outputs": [],
      "source": [
        "def buildCityGraph(graphType):\n",
        "    g = graphType()\n",
        "    for name in ('Boston', 'Providence', 'New York', 'Chicago', 'Denver', 'Phoenix', 'Los Angeles'):\n",
        "        #Create 7 nodes\n",
        "        g.addNode(Node(name))\n",
        "    g.addEdge(Edge(g.getNode('Boston'), g.getNode('Providence')))\n",
        "    g.addEdge(Edge(g.getNode('Boston'), g.getNode('New York')))\n",
        "    g.addEdge(Edge(g.getNode('Providence'), g.getNode('Boston')))\n",
        "    g.addEdge(Edge(g.getNode('Providence'), g.getNode('New York')))\n",
        "    g.addEdge(Edge(g.getNode('New York'), g.getNode('Chicago')))\n",
        "    g.addEdge(Edge(g.getNode('Chicago'), g.getNode('Denver')))\n",
        "    g.addEdge(Edge(g.getNode('Denver'), g.getNode('Phoenix')))\n",
        "    g.addEdge(Edge(g.getNode('Denver'), g.getNode('New York')))\n",
        "    g.addEdge(Edge(g.getNode('Los Angeles'), g.getNode('Boston')))\n",
        "    return g"
      ]
    },
    {
      "cell_type": "code",
      "execution_count": null,
      "id": "8172d371",
      "metadata": {
        "id": "8172d371"
      },
      "outputs": [],
      "source": [
        "def printPath(path):\n",
        "    \"\"\"Assumes path is a list of nodes\"\"\"\n",
        "    result = ''\n",
        "    for i in range(len(path)):\n",
        "        result = result + str(path[i])\n",
        "        if i != len(path) - 1:\n",
        "            result = result + '->'\n",
        "    return result"
      ]
    },
    {
      "cell_type": "markdown",
      "id": "b5d8bbe4",
      "metadata": {
        "id": "b5d8bbe4"
      },
      "source": [
        "6. Create a method to define DFS technique"
      ]
    },
    {
      "cell_type": "code",
      "execution_count": null,
      "id": "019a8c61",
      "metadata": {
        "id": "019a8c61"
      },
      "outputs": [],
      "source": [
        "def DFS(graph, start, end, path, shortest, toPrint = False):\n",
        "    \"\"\"Assumes graph is a Digraph; start and end are nodes;\n",
        "          path and shortest are lists of nodes\n",
        "       Returns a shortest path from start to end in graph\"\"\"\n",
        "    path = path + [start]\n",
        "    if toPrint:\n",
        "        print('Current DFS path:', printPath(path))\n",
        "    if start == end:\n",
        "        return path\n",
        "    for node in graph.childrenOf(start):\n",
        "        if node not in path: #avoid cycles\n",
        "            if shortest == None or len(path) < len(shortest):\n",
        "                newPath = DFS(graph, node, end, path, shortest,\n",
        "                              toPrint)\n",
        "                if newPath != None:\n",
        "                    shortest = newPath\n",
        "        elif toPrint:\n",
        "            print('Already visited', node)\n",
        "    return shortest"
      ]
    },
    {
      "cell_type": "markdown",
      "id": "9457ef55",
      "metadata": {
        "id": "9457ef55"
      },
      "source": [
        "7. Define a shortestPath method to return the shortest path from source to destination using DFS"
      ]
    },
    {
      "cell_type": "code",
      "execution_count": null,
      "id": "e435e3ce",
      "metadata": {
        "id": "e435e3ce"
      },
      "outputs": [],
      "source": [
        "def shortestPath(graph, start, end, toPrint = False):\n",
        "    \"\"\"Assumes graph is a Digraph; start and end are nodes\n",
        "       Returns a shortest path from start to end in graph\"\"\"\n",
        "    return DFS(graph, start, end, [], None, toPrint)"
      ]
    },
    {
      "cell_type": "markdown",
      "id": "084a1713",
      "metadata": {
        "id": "084a1713"
      },
      "source": [
        "8. Create a method to test the shortest path method"
      ]
    },
    {
      "cell_type": "code",
      "execution_count": null,
      "id": "4ebad313",
      "metadata": {
        "id": "4ebad313"
      },
      "outputs": [],
      "source": [
        "def testSP(source, destination):\n",
        "    g = buildCityGraph(Digraph)\n",
        "    sp = shortestPath(g, g.getNode(source), g.getNode(destination),\n",
        "                      toPrint = True)\n",
        "    if sp != None:\n",
        "        print('Shortest path from', source, 'to',\n",
        "              destination, 'is', printPath(sp))\n",
        "    else:\n",
        "        print('There is no path from', source, 'to', destination)"
      ]
    },
    {
      "cell_type": "markdown",
      "id": "397fcad6",
      "metadata": {
        "id": "397fcad6"
      },
      "source": [
        "9. Execute the testSP method"
      ]
    },
    {
      "cell_type": "code",
      "execution_count": null,
      "id": "7b0da96e",
      "metadata": {
        "colab": {
          "base_uri": "https://localhost:8080/"
        },
        "id": "7b0da96e",
        "outputId": "e40ef6f5-33c6-49a1-bf10-bc4c51d6d802"
      },
      "outputs": [
        {
          "output_type": "stream",
          "name": "stdout",
          "text": [
            "Current DFS path: Boston\n",
            "Current DFS path: Boston->Providence\n",
            "Already visited Boston\n",
            "Current DFS path: Boston->Providence->New York\n",
            "Current DFS path: Boston->Providence->New York->Chicago\n",
            "Current DFS path: Boston->Providence->New York->Chicago->Denver\n",
            "Current DFS path: Boston->Providence->New York->Chicago->Denver->Phoenix\n",
            "Already visited New York\n",
            "Current DFS path: Boston->New York\n",
            "Current DFS path: Boston->New York->Chicago\n",
            "Current DFS path: Boston->New York->Chicago->Denver\n",
            "Current DFS path: Boston->New York->Chicago->Denver->Phoenix\n",
            "Already visited New York\n",
            "Shortest path from Boston to Phoenix is Boston->New York->Chicago->Denver->Phoenix\n"
          ]
        }
      ],
      "source": [
        "testSP('Boston', 'Phoenix')"
      ]
    },
    {
      "cell_type": "markdown",
      "id": "be62a0ea",
      "metadata": {
        "id": "be62a0ea"
      },
      "source": [
        "##### Question:\n",
        "    \n",
        "Describe the DFS method to compute for the shortest path using the given sample codes"
      ]
    },
    {
      "cell_type": "markdown",
      "id": "cb6ecea8",
      "metadata": {
        "id": "cb6ecea8"
      },
      "source": [
        "#type your answer here"
      ]
    },
    {
      "cell_type": "markdown",
      "id": "7bec3a35",
      "metadata": {
        "id": "7bec3a35"
      },
      "source": [
        "10. Create a method to define BFS technique"
      ]
    },
    {
      "cell_type": "code",
      "execution_count": null,
      "id": "baddc3be",
      "metadata": {
        "id": "baddc3be"
      },
      "outputs": [],
      "source": [
        "def BFS(graph, start, end, toPrint = False):\n",
        "    \"\"\"Assumes graph is a Digraph; start and end are nodes\n",
        "       Returns a shortest path from start to end in graph\"\"\"\n",
        "    initPath = [start]\n",
        "    pathQueue = [initPath]\n",
        "    while len(pathQueue) != 0:\n",
        "        #Get and remove oldest element in pathQueue\n",
        "        tmpPath = pathQueue.pop(0)\n",
        "        if toPrint:\n",
        "            print('Current BFS path:', printPath(tmpPath))\n",
        "        lastNode = tmpPath[-1]\n",
        "        if lastNode == end:\n",
        "            return tmpPath\n",
        "        for nextNode in graph.childrenOf(lastNode):\n",
        "            if nextNode not in tmpPath:\n",
        "                newPath = tmpPath + [nextNode]\n",
        "                pathQueue.append(newPath)\n",
        "    return None"
      ]
    },
    {
      "cell_type": "markdown",
      "id": "050edf85",
      "metadata": {
        "id": "050edf85"
      },
      "source": [
        "11. Define a shortestPath method to return the shortest path from source to destination using DFS"
      ]
    },
    {
      "cell_type": "code",
      "execution_count": null,
      "id": "0a595716",
      "metadata": {
        "id": "0a595716"
      },
      "outputs": [],
      "source": [
        "def shortestPath(graph, start, end, toPrint = False):\n",
        "    \"\"\"Assumes graph is a Digraph; start and end are nodes\n",
        "       Returns a shortest path from start to end in graph\"\"\"\n",
        "    return BFS(graph, start, end, toPrint)"
      ]
    },
    {
      "cell_type": "markdown",
      "id": "abd00a05",
      "metadata": {
        "id": "abd00a05"
      },
      "source": [
        "12. Execute the testSP method"
      ]
    },
    {
      "cell_type": "code",
      "execution_count": null,
      "id": "a942ee6b",
      "metadata": {
        "id": "a942ee6b",
        "outputId": "01d075a8-9025-4cbc-e5cb-d2eeb27c21b8"
      },
      "outputs": [
        {
          "name": "stdout",
          "output_type": "stream",
          "text": [
            "Current BFS path: Boston\n",
            "Current BFS path: Boston->Providence\n",
            "Current BFS path: Boston->New York\n",
            "Current BFS path: Boston->Providence->New York\n",
            "Current BFS path: Boston->New York->Chicago\n",
            "Current BFS path: Boston->Providence->New York->Chicago\n",
            "Current BFS path: Boston->New York->Chicago->Denver\n",
            "Current BFS path: Boston->Providence->New York->Chicago->Denver\n",
            "Current BFS path: Boston->New York->Chicago->Denver->Phoenix\n",
            "Shortest path from Boston to Phoenix is Boston->New York->Chicago->Denver->Phoenix\n"
          ]
        }
      ],
      "source": [
        "testSP('Boston', 'Phoenix')"
      ]
    },
    {
      "cell_type": "markdown",
      "id": "c7bbd794",
      "metadata": {
        "id": "c7bbd794"
      },
      "source": [
        "#### Question:\n",
        "    \n",
        "Describe the BFS method to compute for the shortest path using the given sample codestion:\n",
        "    "
      ]
    },
    {
      "cell_type": "markdown",
      "id": "287801ae",
      "metadata": {
        "id": "287801ae"
      },
      "source": [
        "#### Supplementary Activitiy\n",
        "* Use a specific location or city to solve transportation using graph\n",
        "* Use DFS and BFS methods to compute the shortest path\n",
        "* Display the shortest path from source to destination using DFS and BFS\n",
        "* Differentiate the performance of DFS from BFS"
      ]
    },
    {
      "cell_type": "code",
      "execution_count": null,
      "id": "b7e4231f",
      "metadata": {
        "colab": {
          "base_uri": "https://localhost:8080/"
        },
        "id": "b7e4231f",
        "outputId": "36eba209-5e8d-4437-f8c3-4bb640e8e090"
      },
      "outputs": [
        {
          "output_type": "stream",
          "name": "stdout",
          "text": [
            "Current DFS path: Caloocan\n",
            "Current DFS path: Caloocan->Bignay\n",
            "Current DFS path: Caloocan->Bignay->Bagong Silang\n",
            "Current DFS path: Caloocan->Bignay->Bagong Silang->Novaliches\n",
            "Current DFS path: Caloocan->Bignay->Bagumbong\n",
            "Current DFS path: Caloocan->Bignay->Bagumbong->Bagong Silang\n",
            "Current DFS path: Caloocan->Bignay->Bagumbong->Bagong Silang->Novaliches\n",
            "Current DFS path: Caloocan->Saranay\n",
            "Current DFS path: Caloocan->Saranay->Tierra Nova\n",
            "Current DFS path: Caloocan->Saranay->Tierra Nova->Bagumbong\n",
            "Current DFS path: Caloocan->Saranay->Tierra Nova->Bagumbong->Bagong Silang\n",
            "Current DFS path: Caloocan->Saranay->Tierra Nova->Bagumbong->Bagong Silang->Novaliches\n",
            "Current DFS path: Caloocan->Saranay->Bagong Silang\n",
            "Current DFS path: Caloocan->Saranay->Bagong Silang->Novaliches\n",
            "There is no path from Caloocan to  Bagong Silang\n"
          ]
        }
      ],
      "source": [
        "# type your code here using DFS\n",
        "class Node(object):\n",
        "    def __init__(self, name):\n",
        "        \"\"\"Assumes name is a string\"\"\"\n",
        "        self.name = name\n",
        "    def getName(self):\n",
        "        return self.name\n",
        "    def __str__(self):\n",
        "        return self.name\n",
        "\n",
        "class Edge(object):\n",
        "    def __init__(self, src, dest):\n",
        "        \"\"\"Assumes src and dest are nodes\"\"\"\n",
        "        self.src = src\n",
        "        self.dest = dest\n",
        "    def getSource(self):\n",
        "        return self.src\n",
        "    def getDestination(self):\n",
        "        return self.dest\n",
        "    def __str__(self):\n",
        "        return self.src.getName() + '->' + self.dest.getName()\n",
        "\n",
        "class Digraph(object):\n",
        "    \"\"\"edges is a dict mapping each node to a list of\n",
        "    its children\"\"\"\n",
        "    def __init__(self):\n",
        "        self.edges = {}\n",
        "    def addNode(self, node):\n",
        "        if node in self.edges:\n",
        "            raise ValueError('Duplicate node')\n",
        "        else:\n",
        "            self.edges[node] = []\n",
        "    def addEdge(self, edge):\n",
        "        src = edge.getSource()\n",
        "        dest = edge.getDestination()\n",
        "        if not (src in self.edges and dest in self.edges):\n",
        "            raise ValueError('Node not in graph')\n",
        "        self.edges[src].append(dest)\n",
        "    def childrenOf(self, node):\n",
        "        return self.edges[node]\n",
        "    def hasNode(self, node):\n",
        "        return node in self.edges\n",
        "    def getNode(self, name):\n",
        "        for n in self.edges:\n",
        "            if n.getName() == name:\n",
        "                return n\n",
        "                raise NameError(name)\n",
        "    def __str__(self):\n",
        "        result = ''\n",
        "        for src in self.edges:\n",
        "            for dest in self.edges[src]:\n",
        "                result = result + src.getName() + '->'\\\n",
        "                         + dest.getName() + '\\n'\n",
        "        return result[:-1] #omit final newline\n",
        "\n",
        "class Graph(Digraph):\n",
        "    def addEdge(self, edge):\n",
        "        Digraph.addEdge(self, edge)\n",
        "        rev = Edge(edge.getDestination(), edge.getSource())\n",
        "        Digraph.addEdge(self, rev)\n",
        "\n",
        "def buildCityGraph(graphType):\n",
        "    g = graphType()\n",
        "    for name in ('Caloocan', 'Bignay', 'Saranay', 'Tierra Nova', 'Bagumbong', 'Bagong Silang', 'Novaliches'):\n",
        "        #Create 7 nodes\n",
        "        g.addNode(Node(name))\n",
        "    g.addEdge(Edge(g.getNode('Caloocan'), g.getNode('Bignay')))\n",
        "    g.addEdge(Edge(g.getNode('Caloocan'), g.getNode('Saranay')))\n",
        "    g.addEdge(Edge(g.getNode('Bignay'), g.getNode('Bagong Silang')))\n",
        "    g.addEdge(Edge(g.getNode('Bignay'), g.getNode('Bagumbong')))\n",
        "    g.addEdge(Edge(g.getNode('Saranay'), g.getNode('Tierra Nova')))\n",
        "    g.addEdge(Edge(g.getNode('Saranay'), g.getNode('Bagong Silang')))\n",
        "    g.addEdge(Edge(g.getNode('Tierra Nova'), g.getNode('Bagumbong')))\n",
        "    g.addEdge(Edge(g.getNode('Bagumbong'), g.getNode('Bagong Silang')))\n",
        "    g.addEdge(Edge(g.getNode('Bagong Silang'), g.getNode('Novaliches')))\n",
        "    return g\n",
        "\n",
        "def printPath(path):\n",
        "    \"\"\"Assumes path is a list of nodes\"\"\"\n",
        "    result = ''\n",
        "    for i in range(len(path)):\n",
        "        result = result + str(path[i])\n",
        "        if i != len(path) - 1:\n",
        "            result = result + '->'\n",
        "    return result\n",
        "\n",
        "def DFS(graph, start, end, path, shortest, toPrint = False):\n",
        "    \"\"\"Assumes graph is a Digraph; start and end are nodes;\n",
        "          path and shortest are lists of nodes\n",
        "       Returns a shortest path from start to end in graph\"\"\"\n",
        "    path = path + [start]\n",
        "    if toPrint:\n",
        "        print('Current DFS path:', printPath(path))\n",
        "    if start == end:\n",
        "        return path\n",
        "    for node in graph.childrenOf(start):\n",
        "        if node not in path: #avoid cycles\n",
        "            if shortest == None or len(path) < len(shortest):\n",
        "                newPath = DFS(graph, node, end, path, shortest,\n",
        "                              toPrint)\n",
        "                if newPath != None:\n",
        "                    shortest = newPath\n",
        "        elif toPrint:\n",
        "            print('Already visited', node)\n",
        "    return shortest\n",
        "\n",
        "def shortestPath(graph, start, end, toPrint = False):\n",
        "    \"\"\"Assumes graph is a Digraph; start and end are nodes\n",
        "       Returns a shortest path from start to end in graph\"\"\"\n",
        "    return DFS(graph, start, end, [], None, toPrint)\n",
        "\n",
        "def testSP(source, destination):\n",
        "    g = buildCityGraph(Digraph)\n",
        "    sp = shortestPath(g, g.getNode(source), g.getNode(destination),\n",
        "                      toPrint = True)\n",
        "    if sp != None:\n",
        "        print('Shortest path from', source, 'to',\n",
        "              destination, 'is', printPath(sp))\n",
        "    else:\n",
        "        print('There is no path from', source, 'to', destination)\n",
        "\n",
        "testSP('Caloocan', ' Bagong Silang')"
      ]
    },
    {
      "cell_type": "code",
      "execution_count": null,
      "id": "baecad6d",
      "metadata": {
        "colab": {
          "base_uri": "https://localhost:8080/"
        },
        "id": "baecad6d",
        "outputId": "764c2e64-6c49-46c3-bac3-0f8b43cfb4f1"
      },
      "outputs": [
        {
          "output_type": "stream",
          "name": "stdout",
          "text": [
            "Current BFS path: Caloocan\n",
            "Current BFS path: Caloocan->Bignay\n",
            "Current BFS path: Caloocan->Saranay\n",
            "Current BFS path: Caloocan->Bignay->Bagong Silang\n",
            "Shortest path from Caloocan to Bagong Silang is Caloocan->Bignay->Bagong Silang\n"
          ]
        }
      ],
      "source": [
        "# type your code here using BFS\n",
        "class Node(object):\n",
        "    def __init__(self, name):\n",
        "        \"\"\"Assumes name is a string\"\"\"\n",
        "        self.name = name\n",
        "    def getName(self):\n",
        "        return self.name\n",
        "    def __str__(self):\n",
        "        return self.name\n",
        "\n",
        "class Edge(object):\n",
        "    def __init__(self, src, dest):\n",
        "        \"\"\"Assumes src and dest are nodes\"\"\"\n",
        "        self.src = src\n",
        "        self.dest = dest\n",
        "    def getSource(self):\n",
        "        return self.src\n",
        "    def getDestination(self):\n",
        "        return self.dest\n",
        "    def __str__(self):\n",
        "        return self.src.getName() + '->' + self.dest.getName()\n",
        "\n",
        "class Digraph(object):\n",
        "    \"\"\"edges is a dict mapping each node to a list of\n",
        "    its children\"\"\"\n",
        "    def __init__(self):\n",
        "        self.edges = {}\n",
        "    def addNode(self, node):\n",
        "        if node in self.edges:\n",
        "            raise ValueError('Duplicate node')\n",
        "        else:\n",
        "            self.edges[node] = []\n",
        "    def addEdge(self, edge):\n",
        "        src = edge.getSource()\n",
        "        dest = edge.getDestination()\n",
        "        if not (src in self.edges and dest in self.edges):\n",
        "            raise ValueError('Node not in graph')\n",
        "        self.edges[src].append(dest)\n",
        "    def childrenOf(self, node):\n",
        "        return self.edges[node]\n",
        "    def hasNode(self, node):\n",
        "        return node in self.edges\n",
        "    def getNode(self, name):\n",
        "        for n in self.edges:\n",
        "            if n.getName() == name:\n",
        "                return n\n",
        "                raise NameError(name)\n",
        "    def __str__(self):\n",
        "        result = ''\n",
        "        for src in self.edges:\n",
        "            for dest in self.edges[src]:\n",
        "                result = result + src.getName() + '->'\\\n",
        "                         + dest.getName() + '\\n'\n",
        "        return result[:-1] #omit final newline\n",
        "\n",
        "class Graph(Digraph):\n",
        "    def addEdge(self, edge):\n",
        "        Digraph.addEdge(self, edge)\n",
        "        rev = Edge(edge.getDestination(), edge.getSource())\n",
        "        Digraph.addEdge(self, rev)\n",
        "\n",
        "def buildCityGraph(graphType):\n",
        "    g = graphType()\n",
        "    for name in ('Caloocan', 'Bignay', 'Saranay', 'Tierra Nova', 'Bagumbong', 'Bagong Silang', 'Novaliches'):\n",
        "        #Create 7 nodes\n",
        "        g.addNode(Node(name))\n",
        "    g.addEdge(Edge(g.getNode('Caloocan'), g.getNode('Bignay')))\n",
        "    g.addEdge(Edge(g.getNode('Caloocan'), g.getNode('Saranay')))\n",
        "    g.addEdge(Edge(g.getNode('Bignay'), g.getNode('Bagong Silang')))\n",
        "    g.addEdge(Edge(g.getNode('Bignay'), g.getNode('Bagumbong')))\n",
        "    g.addEdge(Edge(g.getNode('Saranay'), g.getNode('Tierra Nova')))\n",
        "    g.addEdge(Edge(g.getNode('Saranay'), g.getNode('Bagong Silang')))\n",
        "    g.addEdge(Edge(g.getNode('Tierra Nova'), g.getNode('Bagumbong')))\n",
        "    g.addEdge(Edge(g.getNode('Bagumbong'), g.getNode('Bagong Silang')))\n",
        "    g.addEdge(Edge(g.getNode('Bagong Silang'), g.getNode('Novaliches')))\n",
        "    return g\n",
        "\n",
        "def printPath(path):\n",
        "    \"\"\"Assumes path is a list of nodes\"\"\"\n",
        "    result = ''\n",
        "    for i in range(len(path)):\n",
        "        result = result + str(path[i])\n",
        "        if i != len(path) - 1:\n",
        "            result = result + '->'\n",
        "    return result\n",
        "\n",
        "def BFS(graph, start, end, toPrint = False):\n",
        "    \"\"\"Assumes graph is a Digraph; start and end are nodes\n",
        "       Returns a shortest path from start to end in graph\"\"\"\n",
        "    initPath = [start]\n",
        "    pathQueue = [initPath]\n",
        "    while len(pathQueue) != 0:\n",
        "        #Get and remove oldest element in pathQueue\n",
        "        tmpPath = pathQueue.pop(0)\n",
        "        if toPrint:\n",
        "            print('Current BFS path:', printPath(tmpPath))\n",
        "        lastNode = tmpPath[-1]\n",
        "        if lastNode == end:\n",
        "            return tmpPath\n",
        "        for nextNode in graph.childrenOf(lastNode):\n",
        "            if nextNode not in tmpPath:\n",
        "                newPath = tmpPath + [nextNode]\n",
        "                pathQueue.append(newPath)\n",
        "    return None\n",
        "\n",
        "def shortestPath(graph, start, end, toPrint = False):\n",
        "    \"\"\"Assumes graph is a Digraph; start and end are nodes\n",
        "       Returns a shortest path from start to end in graph\"\"\"\n",
        "    return BFS(graph, start, end, toPrint)\n",
        "\n",
        "def testSP(source, destination):\n",
        "    g = buildCityGraph(Digraph)\n",
        "    sp = shortestPath(g, g.getNode(source), g.getNode(destination),\n",
        "                      toPrint = True)\n",
        "    if sp != None:\n",
        "        print('Shortest path from', source, 'to',\n",
        "              destination, 'is', printPath(sp))\n",
        "    else:\n",
        "        print('There is no path from', source, 'to', destination)\n",
        "\n",
        "testSP('Caloocan', 'Bagong Silang')"
      ]
    },
    {
      "cell_type": "markdown",
      "id": "a8447b32",
      "metadata": {
        "id": "a8447b32"
      },
      "source": [
        "#Type your evaluation about the performance of DFS and BFS\n",
        "From source to destination, DFS and BFS provided different results. Compared to BFS, DFS requires less memory because it only needs to store the paths of the nodes in the branch that is currently being investigated. But since BFS searches every path possible, level by level, it ensures that the shortest path will be found first."
      ]
    },
    {
      "cell_type": "markdown",
      "id": "159ad18e",
      "metadata": {
        "id": "159ad18e"
      },
      "source": [
        "#### Conclusion"
      ]
    },
    {
      "cell_type": "markdown",
      "id": "b384d644",
      "metadata": {
        "id": "b384d644"
      },
      "source": [
        "#Type your conclusion here\n",
        "\n",
        "This module has shown me how to proplerly use and implement graphs to calculate the shortest path between point a (Source) and point b (Destination).\n",
        "\n",
        "I also discovered that BFS is a lot more faster compared to DFS"
      ]
    }
  ],
  "metadata": {
    "kernelspec": {
      "display_name": "Python 3",
      "language": "python",
      "name": "python3"
    },
    "language_info": {
      "codemirror_mode": {
        "name": "ipython",
        "version": 3
      },
      "file_extension": ".py",
      "mimetype": "text/x-python",
      "name": "python",
      "nbconvert_exporter": "python",
      "pygments_lexer": "ipython3",
      "version": "3.7.10"
    },
    "colab": {
      "provenance": [],
      "include_colab_link": true
    }
  },
  "nbformat": 4,
  "nbformat_minor": 5
}