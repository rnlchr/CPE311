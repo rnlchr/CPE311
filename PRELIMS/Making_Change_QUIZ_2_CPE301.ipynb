{
  "nbformat": 4,
  "nbformat_minor": 0,
  "metadata": {
    "colab": {
      "provenance": [],
      "authorship_tag": "ABX9TyOU6NpamEXPQtDUOUTXSaqU",
      "include_colab_link": true
    },
    "kernelspec": {
      "name": "python3",
      "display_name": "Python 3"
    },
    "language_info": {
      "name": "python"
    }
  },
  "cells": [
    {
      "cell_type": "markdown",
      "metadata": {
        "id": "view-in-github",
        "colab_type": "text"
      },
      "source": [
        "<a href=\"https://colab.research.google.com/github/rnlchr/CPE311/blob/main/PRELIMS/Making_Change_QUIZ_2_CPE301.ipynb\" target=\"_parent\"><img src=\"https://colab.research.google.com/assets/colab-badge.svg\" alt=\"Open In Colab\"/></a>"
      ]
    },
    {
      "cell_type": "markdown",
      "source": [
        "**Making Change. You are given n types of coin denominations of values v(1) < v(2) < ... < v(n) (all integers). Assume v(1) = 1, so you can always make change for any amount of money C. Give an algorithm which makes change for an amount of money C with as few coins as possible. [on problem set 4]**"
      ],
      "metadata": {
        "id": "qetKFuM1HcRW"
      }
    },
    {
      "cell_type": "code",
      "execution_count": null,
      "metadata": {
        "id": "2sDwJSEUGuHp"
      },
      "outputs": [],
      "source": [
        "class MakingChange:\n",
        "  def __init__ (self, v, n, c):\n",
        "    self.value= v\n",
        "    self.coins= n\n",
        "    self.money= c\n",
        "\n",
        "  def getMoney(self):\n",
        "    return self.money\n",
        "  def getVal(self):\n",
        "    return self.value\n",
        "  def yourCoins(self):\n",
        "    return self.n\n",
        "  def GreedyAlgo(self, v,n,c):\n",
        "    coin_combo= []\n",
        "    yourCash= getMoney()\n",
        "    if yourCash == 0:\n",
        "      print (\"You got no cash, Cant Change that!\")\n",
        "    if yourCash == 1:\n",
        "      return 1\n",
        "    else:\n",
        "      TotalChange += coin_combo.n\n",
        "      coin_combo.append(n)\n",
        "\n",
        "\n",
        "\n",
        "\n"
      ]
    },
    {
      "cell_type": "code",
      "source": [
        "money= 10\n",
        "value= ['v(1)','v(2)','v(3)', 'v(4)']\n",
        "coins=[1,5,10,20]\n",
        "\n",
        "print(MakingChange.GreedyAlgo(value.v, coins.n, money.c))"
      ],
      "metadata": {
        "colab": {
          "base_uri": "https://localhost:8080/",
          "height": 176
        },
        "id": "CgVu8GDkMc3c",
        "outputId": "e631bc8a-b4ef-4033-ccff-062f51cb7bbe"
      },
      "execution_count": null,
      "outputs": [
        {
          "output_type": "error",
          "ename": "AttributeError",
          "evalue": "'list' object has no attribute 'v'",
          "traceback": [
            "\u001b[0;31m---------------------------------------------------------------------------\u001b[0m",
            "\u001b[0;31mAttributeError\u001b[0m                            Traceback (most recent call last)",
            "\u001b[0;32m<ipython-input-10-5eae742c6014>\u001b[0m in \u001b[0;36m<cell line: 5>\u001b[0;34m()\u001b[0m\n\u001b[1;32m      3\u001b[0m \u001b[0mcoins\u001b[0m\u001b[0;34m=\u001b[0m\u001b[0;34m[\u001b[0m\u001b[0;36m1\u001b[0m\u001b[0;34m,\u001b[0m\u001b[0;36m5\u001b[0m\u001b[0;34m,\u001b[0m\u001b[0;36m10\u001b[0m\u001b[0;34m,\u001b[0m\u001b[0;36m20\u001b[0m\u001b[0;34m]\u001b[0m\u001b[0;34m\u001b[0m\u001b[0;34m\u001b[0m\u001b[0m\n\u001b[1;32m      4\u001b[0m \u001b[0;34m\u001b[0m\u001b[0m\n\u001b[0;32m----> 5\u001b[0;31m \u001b[0mprint\u001b[0m\u001b[0;34m(\u001b[0m\u001b[0mMakingChange\u001b[0m\u001b[0;34m.\u001b[0m\u001b[0mGreedyAlgo\u001b[0m\u001b[0;34m(\u001b[0m\u001b[0mvalue\u001b[0m\u001b[0;34m.\u001b[0m\u001b[0mv\u001b[0m\u001b[0;34m,\u001b[0m \u001b[0mcoins\u001b[0m\u001b[0;34m.\u001b[0m\u001b[0mn\u001b[0m\u001b[0;34m,\u001b[0m \u001b[0mmoney\u001b[0m\u001b[0;34m.\u001b[0m\u001b[0mc\u001b[0m\u001b[0;34m)\u001b[0m\u001b[0;34m)\u001b[0m\u001b[0;34m\u001b[0m\u001b[0;34m\u001b[0m\u001b[0m\n\u001b[0m",
            "\u001b[0;31mAttributeError\u001b[0m: 'list' object has no attribute 'v'"
          ]
        }
      ]
    }
  ]
}