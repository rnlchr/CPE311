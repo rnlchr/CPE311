{
  "cells": [
    {
      "cell_type": "markdown",
      "metadata": {
        "id": "view-in-github",
        "colab_type": "text"
      },
      "source": [
        "<a href=\"https://colab.research.google.com/github/rnlchr/CPE311/blob/main/PRELIMS/Hands_on_Activity_1_1_Optimization_and_Knapsack_Problem_Castillo%2C_Ronel_Christian_.ipynb\" target=\"_parent\"><img src=\"https://colab.research.google.com/assets/colab-badge.svg\" alt=\"Open In Colab\"/></a>"
      ]
    },
    {
      "cell_type": "markdown",
      "id": "193686ba",
      "metadata": {
        "id": "193686ba"
      },
      "source": [
        "# Hands-on Activity 1.1 | Optimization and Knapsack Problem"
      ]
    },
    {
      "cell_type": "markdown",
      "id": "8d87e989",
      "metadata": {
        "id": "8d87e989"
      },
      "source": [
        "#### Objective(s):\n",
        "\n",
        "This activity aims to demonstrate how to apply  greedy and brute force algorithms to solve optimization problems"
      ]
    },
    {
      "cell_type": "markdown",
      "id": "7717a27a",
      "metadata": {
        "id": "7717a27a"
      },
      "source": [
        "#### Intended Learning Outcomes (ILOs):\n",
        "* Demonstrate how to solve knapsacks problems using greedy algorithm\n",
        "* Demonstrate how to  solve knapsacks problems using brute force algorithm\n"
      ]
    },
    {
      "cell_type": "markdown",
      "id": "6454cfe7",
      "metadata": {
        "id": "6454cfe7"
      },
      "source": [
        "#### Resources:\n",
        "* Jupyter Notebook\n"
      ]
    },
    {
      "cell_type": "markdown",
      "id": "433711ac",
      "metadata": {
        "id": "433711ac"
      },
      "source": [
        "#### Procedures:"
      ]
    },
    {
      "cell_type": "markdown",
      "id": "e54a8995",
      "metadata": {
        "id": "e54a8995"
      },
      "source": [
        "1. Create a Food class that defines the following:\n",
        "* name of the food\n",
        "* value of the food\n",
        "* calories of the food\n",
        "\n",
        "2. Create the following methods inside the Food class:\n",
        "* A method that returns the value of the food\n",
        "* A method that returns the cost of the food\n",
        "* A method that calculates the density of the food (Value / Cost)\n",
        "* A method that returns a string to display the name, value and calories of the food"
      ]
    },
    {
      "cell_type": "code",
      "execution_count": null,
      "id": "cdd8310c",
      "metadata": {
        "id": "cdd8310c"
      },
      "outputs": [],
      "source": [
        "class Food(object):\n",
        "    def __init__(self, n, v, w):\n",
        "        # Make the variables private\n",
        "        self.name = n\n",
        "        self.value = v\n",
        "        self.calories = w\n",
        "    def getValue(self):\n",
        "        return self.value\n",
        "    def getCost(self):\n",
        "        return self.calories\n",
        "    def density(self):\n",
        "        return self.getValue()/self.getCost()\n",
        "    def __str__(self):\n",
        "        return self.name + ': <' + str(self.value)+ ', ' + str(self.calories) + '>'"
      ]
    },
    {
      "cell_type": "markdown",
      "id": "b36eee15",
      "metadata": {
        "id": "b36eee15"
      },
      "source": [
        "3. Create a buildMenu method that builds the name, value and calories of the food\n"
      ]
    },
    {
      "cell_type": "code",
      "execution_count": null,
      "id": "509672a4",
      "metadata": {
        "id": "509672a4"
      },
      "outputs": [],
      "source": [
        "def buildMenu(names, values, calories):\n",
        "    menu = []\n",
        "    for i in range(len(values)):\n",
        "        menu.append(Food(names[i], values[i],calories[i]))\n",
        "    return menu"
      ]
    },
    {
      "cell_type": "markdown",
      "id": "86f3a85b",
      "metadata": {
        "id": "86f3a85b"
      },
      "source": [
        "4. Create a method greedy to return total value and cost of added food based on the desired maximum cost"
      ]
    },
    {
      "cell_type": "code",
      "execution_count": null,
      "id": "b76912f0",
      "metadata": {
        "id": "b76912f0"
      },
      "outputs": [],
      "source": [
        "def greedy(items, maxCost, keyFunction):\n",
        "    \"\"\"Assumes items a list, maxCost >= 0,         keyFunction maps elements of items to numbers\"\"\"\n",
        "    itemsCopy = sorted(items, key = keyFunction,\n",
        "                       reverse = True)\n",
        "    result = []\n",
        "    totalValue, totalCost = 0.0, 0.0\n",
        "    for i in range(len(itemsCopy)):\n",
        "        if (totalCost+itemsCopy[i].getCost()) <= maxCost:\n",
        "            result.append(itemsCopy[i])\n",
        "            totalCost += itemsCopy[i].getCost()\n",
        "            totalValue += itemsCopy[i].getValue()\n",
        "    return (result, totalValue)"
      ]
    },
    {
      "cell_type": "markdown",
      "id": "887c566c",
      "metadata": {
        "id": "887c566c"
      },
      "source": [
        "5. Create a testGreedy method to test the greedy method"
      ]
    },
    {
      "cell_type": "code",
      "execution_count": null,
      "id": "61f2a7b0",
      "metadata": {
        "id": "61f2a7b0"
      },
      "outputs": [],
      "source": [
        "def testGreedy(items, constraint, keyFunction):\n",
        "    taken, val = greedy(items, constraint, keyFunction)\n",
        "    print('Total value of items taken =', val)\n",
        "    for item in taken:\n",
        "        print('   ', item)"
      ]
    },
    {
      "cell_type": "code",
      "execution_count": null,
      "id": "f93e5bfe",
      "metadata": {
        "id": "f93e5bfe"
      },
      "outputs": [],
      "source": [
        "def testGreedys(foods, maxUnits):\n",
        "    print('Use greedy by value to allocate', maxUnits,          'calories')\n",
        "    testGreedy(foods, maxUnits, Food.getValue)\n",
        "    print('\\nUse greedy by cost to allocate', maxUnits,          'calories')\n",
        "    testGreedy(foods, maxUnits, lambda x: 1/Food.getCost(x))\n",
        "    print('\\nUse greedy by density to allocate', maxUnits,          'calories')\n",
        "    testGreedy(foods, maxUnits, Food.density)"
      ]
    },
    {
      "cell_type": "markdown",
      "id": "cdf99f37",
      "metadata": {
        "id": "cdf99f37"
      },
      "source": [
        "6. Create arrays of food name, values and calories\n",
        "7. Call the buildMenu to create menu for food\n",
        "8. Use testGreedys method to pick food according to the desired calories"
      ]
    },
    {
      "cell_type": "code",
      "execution_count": null,
      "id": "ee22c2dd",
      "metadata": {
        "id": "ee22c2dd",
        "outputId": "7fff337b-2d38-42a2-9202-be542e6746b4",
        "colab": {
          "base_uri": "https://localhost:8080/"
        }
      },
      "outputs": [
        {
          "output_type": "stream",
          "name": "stdout",
          "text": [
            "Use greedy by value to allocate 2000 calories\n",
            "Total value of items taken = 603.0\n",
            "    burger: <100, 354>\n",
            "    pizza: <95, 258>\n",
            "    beer: <90, 154>\n",
            "    fries: <90, 365>\n",
            "    wine: <89, 123>\n",
            "    cola: <79, 150>\n",
            "    apple: <50, 95>\n",
            "    donut: <10, 195>\n",
            "\n",
            "Use greedy by cost to allocate 2000 calories\n",
            "Total value of items taken = 603.0\n",
            "    apple: <50, 95>\n",
            "    wine: <89, 123>\n",
            "    cola: <79, 150>\n",
            "    beer: <90, 154>\n",
            "    donut: <10, 195>\n",
            "    pizza: <95, 258>\n",
            "    burger: <100, 354>\n",
            "    fries: <90, 365>\n",
            "\n",
            "Use greedy by density to allocate 2000 calories\n",
            "Total value of items taken = 603.0\n",
            "    wine: <89, 123>\n",
            "    beer: <90, 154>\n",
            "    cola: <79, 150>\n",
            "    apple: <50, 95>\n",
            "    pizza: <95, 258>\n",
            "    burger: <100, 354>\n",
            "    fries: <90, 365>\n",
            "    donut: <10, 195>\n"
          ]
        }
      ],
      "source": [
        "names = ['wine', 'beer', 'pizza', 'burger', 'fries','cola', 'apple', 'donut', 'cake']\n",
        "values = [89,90,95,100,90,79,50,10]\n",
        "calories = [123,154,258,354,365,150,95,195]\n",
        "foods = buildMenu(names, values, calories)\n",
        "testGreedys(foods, 2000)"
      ]
    },
    {
      "cell_type": "markdown",
      "id": "a6bae808",
      "metadata": {
        "id": "a6bae808"
      },
      "source": [
        "Task 1: Change the maxUnits to 100"
      ]
    },
    {
      "cell_type": "code",
      "execution_count": null,
      "id": "3c9655c5",
      "metadata": {
        "id": "3c9655c5",
        "outputId": "71e41ef7-ee94-4b86-f7f7-19cf88ab874c",
        "colab": {
          "base_uri": "https://localhost:8080/"
        }
      },
      "outputs": [
        {
          "output_type": "stream",
          "name": "stdout",
          "text": [
            "Use greedy by value to allocate 100 calories\n",
            "Total value of items taken = 50.0\n",
            "    apple: <50, 95>\n",
            "\n",
            "Use greedy by cost to allocate 100 calories\n",
            "Total value of items taken = 50.0\n",
            "    apple: <50, 95>\n",
            "\n",
            "Use greedy by density to allocate 100 calories\n",
            "Total value of items taken = 50.0\n",
            "    apple: <50, 95>\n"
          ]
        }
      ],
      "source": [
        "names = ['wine', 'beer', 'pizza', 'burger', 'fries','cola', 'apple', 'donut', 'cake']\n",
        "values = [89,90,95,100,90,79,50,10]\n",
        "calories = [123,154,258,354,365,150,95,195]\n",
        "foods = buildMenu(names, values, calories)\n",
        "testGreedys(foods, 100)"
      ]
    },
    {
      "cell_type": "markdown",
      "id": "d13f4bdc",
      "metadata": {
        "id": "d13f4bdc"
      },
      "source": [
        "Task 2: Modify codes to add additional weight (criterion) to select food items."
      ]
    },
    {
      "cell_type": "code",
      "execution_count": null,
      "id": "61fd22fa",
      "metadata": {
        "id": "61fd22fa",
        "outputId": "653a2b4b-fc7e-4022-c090-65114a6eaeaf",
        "colab": {
          "base_uri": "https://localhost:8080/"
        }
      },
      "outputs": [
        {
          "output_type": "stream",
          "name": "stdout",
          "text": [
            "Use greedy by value to allocate 2500 calories\n",
            "Total value of items taken = 695.0\n",
            "    burger: <100, 354>\n",
            "    pizza: <95, 258>\n",
            "    beer: <90, 154>\n",
            "    fries: <90, 365>\n",
            "    wine: <89, 123>\n",
            "    chicken: <87, 654>\n",
            "    cola: <79, 150>\n",
            "    cake: <65, 367>\n",
            "\n",
            "Use greedy by cost to allocate 2500 calories\n",
            "Total value of items taken = 668.0\n",
            "    apple: <50, 95>\n",
            "    wine: <89, 123>\n",
            "    cola: <79, 150>\n",
            "    beer: <90, 154>\n",
            "    donut: <10, 195>\n",
            "    pizza: <95, 258>\n",
            "    burger: <100, 354>\n",
            "    fries: <90, 365>\n",
            "    cake: <65, 367>\n",
            "\n",
            "Use greedy by density to allocate 2500 calories\n",
            "Total value of items taken = 668.0\n",
            "    wine: <89, 123>\n",
            "    beer: <90, 154>\n",
            "    cola: <79, 150>\n",
            "    apple: <50, 95>\n",
            "    pizza: <95, 258>\n",
            "    burger: <100, 354>\n",
            "    fries: <90, 365>\n",
            "    cake: <65, 367>\n",
            "    donut: <10, 195>\n"
          ]
        }
      ],
      "source": [
        "names = ['wine', 'beer', 'pizza', 'burger', 'fries','cola', 'apple', 'donut', 'cake', 'chicken', 'ramen']\n",
        "values = [89,90,95,100,90,79,50,10,65, 87]\n",
        "calories = [123,154,258,354,365,150,95,195,367, 654]\n",
        "foods = buildMenu(names, values, calories)\n",
        "testGreedys(foods, 2500)"
      ]
    },
    {
      "cell_type": "markdown",
      "id": "ba95a8c6",
      "metadata": {
        "id": "ba95a8c6"
      },
      "source": [
        "Task 3: Test your modified code to test the greedy algorithm to select food items with your additional weight."
      ]
    },
    {
      "cell_type": "code",
      "execution_count": null,
      "id": "9d9b25c1",
      "metadata": {
        "id": "9d9b25c1",
        "outputId": "9761cd0f-710d-4279-9262-36a5f7dde081",
        "colab": {
          "base_uri": "https://localhost:8080/"
        }
      },
      "outputs": [
        {
          "output_type": "stream",
          "name": "stdout",
          "text": [
            "Use greedy by value to allocate 25000 calories\n",
            "Total value of items taken = 713.0\n",
            "    kopiko lucky day: <100, 354>\n",
            "    pizza: <95, 258>\n",
            "    beer: <90, 154>\n",
            "    fries: <90, 365>\n",
            "    wine: <89, 123>\n",
            "    cola: <79, 150>\n",
            "    cake: <65, 367>\n",
            "    apple: <50, 95>\n",
            "    chicken: <45, 654>\n",
            "    donut: <10, 195>\n",
            "\n",
            "Use greedy by cost to allocate 25000 calories\n",
            "Total value of items taken = 713.0\n",
            "    apple: <50, 95>\n",
            "    wine: <89, 123>\n",
            "    cola: <79, 150>\n",
            "    beer: <90, 154>\n",
            "    donut: <10, 195>\n",
            "    pizza: <95, 258>\n",
            "    kopiko lucky day: <100, 354>\n",
            "    fries: <90, 365>\n",
            "    cake: <65, 367>\n",
            "    chicken: <45, 654>\n",
            "\n",
            "Use greedy by density to allocate 25000 calories\n",
            "Total value of items taken = 713.0\n",
            "    wine: <89, 123>\n",
            "    beer: <90, 154>\n",
            "    cola: <79, 150>\n",
            "    apple: <50, 95>\n",
            "    pizza: <95, 258>\n",
            "    kopiko lucky day: <100, 354>\n",
            "    fries: <90, 365>\n",
            "    cake: <65, 367>\n",
            "    chicken: <45, 654>\n",
            "    donut: <10, 195>\n"
          ]
        }
      ],
      "source": [
        "names = ['wine', 'beer', 'pizza', 'kopiko lucky day', 'fries','cola', 'apple', 'donut', 'cake', 'chicken', 'ramen']\n",
        "values = [89,90,95,100,90,79,50,10,65, 45,]\n",
        "calories = [123,154,258,354,365,150,95,195,367, 654, 200]\n",
        "foods = buildMenu(names, values, calories)\n",
        "testGreedys(foods, 25000)"
      ]
    },
    {
      "cell_type": "markdown",
      "id": "1baef0aa",
      "metadata": {
        "id": "1baef0aa"
      },
      "source": [
        "9. Create method to use  Bruteforce algorithm instead of greedy algorithm"
      ]
    },
    {
      "cell_type": "code",
      "execution_count": null,
      "id": "3f61953e",
      "metadata": {
        "id": "3f61953e"
      },
      "outputs": [],
      "source": [
        "def maxVal(toConsider, avail):\n",
        "    \"\"\"Assumes toConsider a list of items, avail a weight\n",
        "       Returns a tuple of the total value of a solution to the\n",
        "         0/1 knapsack problem and the items of that solution\"\"\"\n",
        "    if toConsider == [] or avail == 0:\n",
        "        result = (0, ())\n",
        "    elif toConsider[0].getCost() > avail:\n",
        "        #Explore right branch only\n",
        "        result = maxVal(toConsider[1:], avail)\n",
        "    else:\n",
        "        nextItem = toConsider[0]\n",
        "        #Explore left branch\n",
        "        withVal, withToTake = maxVal(toConsider[1:],\n",
        "                                     avail - nextItem.getCost())\n",
        "        withVal += nextItem.getValue()\n",
        "        #Explore right branch\n",
        "        withoutVal, withoutToTake = maxVal(toConsider[1:], avail)\n",
        "        #Choose better branch\n",
        "        if withVal > withoutVal:\n",
        "            result = (withVal, withToTake + (nextItem,))\n",
        "        else:\n",
        "            result = (withoutVal, withoutToTake)\n",
        "    return result"
      ]
    },
    {
      "cell_type": "code",
      "execution_count": null,
      "id": "601e6dfe",
      "metadata": {
        "id": "601e6dfe"
      },
      "outputs": [],
      "source": [
        "def testMaxVal(foods, maxUnits, printItems = True):\n",
        "    print('Use search tree to allocate', maxUnits,\n",
        "          'calories')\n",
        "    val, taken = maxVal(foods, maxUnits)\n",
        "    print('Total costs of foods taken =', val)\n",
        "    if printItems:\n",
        "        for item in taken:\n",
        "            print('   ', item)"
      ]
    },
    {
      "cell_type": "code",
      "execution_count": null,
      "id": "f4c33d92",
      "metadata": {
        "id": "f4c33d92",
        "outputId": "b8466ea4-a61e-49c1-a556-a7095dc368a6",
        "colab": {
          "base_uri": "https://localhost:8080/"
        }
      },
      "outputs": [
        {
          "output_type": "stream",
          "name": "stdout",
          "text": [
            "Use search tree to allocate 2400 calories\n",
            "Total costs of foods taken = 638\n",
            "    cake: <35, 130>\n",
            "    donut: <10, 195>\n",
            "    apple: <50, 95>\n",
            "    cola: <79, 150>\n",
            "    fries: <90, 365>\n",
            "    burger: <100, 354>\n",
            "    pizza: <95, 258>\n",
            "    beer: <90, 154>\n",
            "    wine: <89, 123>\n"
          ]
        }
      ],
      "source": [
        "names = ['wine', 'beer', 'pizza', 'burger', 'fries','cola', 'apple', 'donut', 'cake', 'kopiko lucky day']\n",
        "values = [89,90,95,100,90,79,50,10, 35]\n",
        "calories = [123,154,258,354,365,150,95,195, 130]\n",
        "foods = buildMenu(names, values, calories)\n",
        "testMaxVal(foods, 2400)"
      ]
    },
    {
      "cell_type": "markdown",
      "id": "5e8ee81f",
      "metadata": {
        "id": "5e8ee81f"
      },
      "source": [
        "#### Supplementary Activity:"
      ]
    },
    {
      "cell_type": "markdown",
      "id": "f7eb02e1",
      "metadata": {
        "id": "f7eb02e1"
      },
      "source": [
        "* Choose a real-world problem that solves knapsacks problem\n",
        "* Use the greedy and brute force algorithm to solve knapsacks problem\n"
      ]
    },
    {
      "cell_type": "markdown",
      "source": [
        "**For the real-world problem, I choose a Logistics problem involving how much weight can a truck/transporation vehicle carry. My main goal with this is to maximize the value-weight ratio while considering the weight and volume of the\n",
        "actual vehicle**"
      ],
      "metadata": {
        "id": "mZC_Z_XpcJWj"
      },
      "id": "mZC_Z_XpcJWj"
    },
    {
      "cell_type": "markdown",
      "source": [
        "**Lets try the Greedy algorithm First**"
      ],
      "metadata": {
        "id": "TPe1lz6VNjVo"
      },
      "id": "TPe1lz6VNjVo"
    },
    {
      "cell_type": "code",
      "source": [
        "class CargoItem:\n",
        "    def __init__(self, v, w, h):\n",
        "        self.value = v\n",
        "        self.weight = w\n",
        "        self.value_weight_ratio = v/w\n",
        "        self.height= h"
      ],
      "metadata": {
        "id": "717Sal4XcFfc"
      },
      "id": "717Sal4XcFfc",
      "execution_count": null,
      "outputs": []
    },
    {
      "cell_type": "markdown",
      "source": [
        "First, We created a class in which we can store our variables"
      ],
      "metadata": {
        "id": "_JYOVlSuNp5E"
      },
      "id": "_JYOVlSuNp5E"
    },
    {
      "cell_type": "code",
      "source": [
        "class CargoLoader:\n",
        "    def __init__(self, c, r):\n",
        "        self.capacity = c\n",
        "        self.roof = r\n",
        "        self.items = []\n",
        "\n",
        "    def add_item(self, value, weight, height):\n",
        "        self.items.append(CargoItem(value, weight, height))\n",
        "\n",
        "    def GreedyAlgoCargo(self):\n",
        "        TotalVal = 0\n",
        "        loaded_weight = 0\n",
        "        selected_items = []\n",
        "        loaded_height = 0\n",
        "\n",
        "        # Sort items based on value-to-weight ratio, in descending order\n",
        "        sorted_items = sorted(self.items, key=lambda x: x.value_weight_ratio, reverse=True)\n",
        "\n",
        "        for item in sorted_items:\n",
        "            if item.weight <= self.capacity - loaded_weight and item.height <= self.roof - loaded_height:\n",
        "                # If the item fits entirely, load it\n",
        "                TotalVal += item.value\n",
        "                loaded_weight += item.weight\n",
        "                loaded_height += item.height\n",
        "                selected_items.append(item)\n",
        "            elif item.height > self.roof - loaded_height:\n",
        "                # If the item's height exceeds the remaining height, skip it\n",
        "                continue\n",
        "            else:\n",
        "                # If the item does not fit entirely, load a fraction of it\n",
        "                fraction_loaded = min((self.capacity - loaded_weight) / item.weight, (self.roof - loaded_height) / item.height)\n",
        "                TotalVal += fraction_loaded * item.value\n",
        "                loaded_weight += fraction_loaded * item.weight\n",
        "                loaded_height += fraction_loaded * item.height\n",
        "                selected_items.append(item)\n",
        "                break  # Stop loading items as capacity or height is reached\n",
        "\n",
        "        print(\"Weight of cargo currently holds:\", loaded_weight)\n",
        "        return TotalVal, selected_items"
      ],
      "metadata": {
        "id": "d7IvyqXLg1RA"
      },
      "id": "d7IvyqXLg1RA",
      "execution_count": null,
      "outputs": []
    },
    {
      "cell_type": "markdown",
      "source": [
        "Then, we created a class in which we can perform our greedy algorithm, as you can see, I choose a different approach to a certain scenario. If it occurs that an item cannot be added as the capacity is almost full, instead of displaying an error where I say that the item does not fit, I opted with creating a conditional statement that will instead get the fraction of said item's weight and add it to the 'container', of course the added weight will be the whatever's left to add."
      ],
      "metadata": {
        "id": "iJI9I-fFNv9H"
      },
      "id": "iJI9I-fFNv9H"
    },
    {
      "cell_type": "code",
      "source": [
        "cargo_loader = CargoLoader(50, 50)\n",
        "\n",
        "# Add cargo items (Value, Weight, Height)\n",
        "cargo_loader.add_item(60, 10, 15)\n",
        "cargo_loader.add_item(100, 20, 15)\n",
        "cargo_loader.add_item(120, 30, 5)\n",
        "cargo_loader.add_item(56, 17, 24)\n",
        "cargo_loader.add_item(32, 33, 15)\n",
        "\n",
        "# Greedy algorithm\n",
        "TotalVal, selected_items = cargo_loader.GreedyAlgoCargo()\n",
        "print(\"Total value of loaded cargo using the Greedy Algorithm:\", TotalVal)\n",
        "print(\"Selected items Using the Greedy Algorithm:\")\n",
        "for item in selected_items:\n",
        "    print(\"Value:\", item.value, \"Weight:\", item.weight, \"Height:\", item.height)"
      ],
      "metadata": {
        "colab": {
          "base_uri": "https://localhost:8080/"
        },
        "id": "0qwav46wg59-",
        "outputId": "9d175ab9-4a02-4230-bd19-90765252717a"
      },
      "id": "0qwav46wg59-",
      "execution_count": null,
      "outputs": [
        {
          "output_type": "stream",
          "name": "stdout",
          "text": [
            "Weight of cargo currently holds: 50.0\n",
            "Total value of loaded cargo using the Greedy Algorithm: 240.0\n",
            "Selected items Using the Greedy Algorithm:\n",
            "Value: 60 Weight: 10 Height: 15\n",
            "Value: 100 Weight: 20 Height: 15\n",
            "Value: 120 Weight: 30 Height: 5\n"
          ]
        }
      ]
    },
    {
      "cell_type": "markdown",
      "source": [
        "Lets try another output, this time we will use a higher weight limit, lower height limit"
      ],
      "metadata": {
        "id": "rKcTNUxsPLbb"
      },
      "id": "rKcTNUxsPLbb"
    },
    {
      "cell_type": "code",
      "source": [
        "cargo_loader = CargoLoader(250)  # Maximum weight capacity of the transportation vehicle, for this context we will be using the metric system 'Tons'\n",
        "\n",
        "# Add cargo items (Value, Weight, Height)\n",
        "cargo_loader.add_item(45, 350)\n",
        "cargo_loader.add_item(250, 15)\n",
        "cargo_loader.add_item(3, 1)\n",
        "\n",
        "# Greedy algorithm\n",
        "TotalVal, selected_items = cargo_loader.GreedyAlgoCargo()\n",
        "print(\"Total value of loaded cargo using the Greedy Algorithm: \\n\",TotalVal)\n",
        "print(\"Selected items Using the Greedy Algorithm:\\n\", [(item.value, item.weight) for item in selected_items])"
      ],
      "metadata": {
        "colab": {
          "base_uri": "https://localhost:8080/"
        },
        "id": "6aYdUD6MPLDB",
        "outputId": "a341234f-5664-4fd6-f6d6-9b784e747d25"
      },
      "id": "6aYdUD6MPLDB",
      "execution_count": null,
      "outputs": [
        {
          "output_type": "stream",
          "name": "stdout",
          "text": [
            "Weight of cargo currently holds:\n",
            " 250\n",
            "Total value of loaded cargo using the Greedy Algorithm: \n",
            " 283.0857142857143\n",
            "Selected items Using the Greedy Algorithm:\n",
            " [(250, 15), (3, 1), (45, 350)]\n"
          ]
        }
      ]
    },
    {
      "cell_type": "markdown",
      "source": [
        "with the greedy algo done, we can proceed with the brute force method\n"
      ],
      "metadata": {
        "id": "lJtG_WWWymsI"
      },
      "id": "lJtG_WWWymsI"
    },
    {
      "cell_type": "code",
      "source": [
        "def cargo_loading_brute_force(values, weights, capacity):\n",
        "    n = len(values)\n",
        "    max_value = 0\n",
        "    best_combination = []\n",
        "\n",
        "    # Generate all possible combinations of items\n",
        "    for i in range(1 << n):\n",
        "        total_value = 0\n",
        "        total_weight = 0\n",
        "        combination = []\n",
        "\n",
        "        for j in range(n):\n",
        "            if i & (1 << j):\n",
        "                total_value += values[j]\n",
        "                total_weight += weights[j]\n",
        "                combination.append(j)\n",
        "\n",
        "        # Check if the combination does not exceed the weight limit that has been set.\n",
        "        if total_weight <= capacity and total_value > max_value:\n",
        "            max_value = total_value\n",
        "            best_combination = combination\n",
        "\n",
        "    print(\"Weight of cargo currently holds:\\n\", total_weight) #so we can see how much weight did the combination form\n",
        "    return max_value, best_combination\n"
      ],
      "metadata": {
        "id": "ObzKIgxk0FRX"
      },
      "id": "ObzKIgxk0FRX",
      "execution_count": null,
      "outputs": []
    },
    {
      "cell_type": "code",
      "source": [
        "values = [60, 100, 120]\n",
        "weights = [10, 20, 30]\n",
        "capacity = 50 # Maximum weight\n",
        "\n",
        "total_value, selected_items = cargo_loading_brute_force(values, weights, capacity)\n",
        "print(\"Total value of loaded cargo using Brute Force Method:\\n\", total_value)\n",
        "print(\"Selected items using Brute Force Method:\\n\", [(values[i], weights[i]) for i in selected_items])"
      ],
      "metadata": {
        "colab": {
          "base_uri": "https://localhost:8080/"
        },
        "id": "JLVHqabpnQ5D",
        "outputId": "60d7c1b3-ef53-4af7-9f7d-4d7b793e851b"
      },
      "id": "JLVHqabpnQ5D",
      "execution_count": null,
      "outputs": [
        {
          "output_type": "stream",
          "name": "stdout",
          "text": [
            "Weight of cargo currently holds:\n",
            " 60\n",
            "Total value of loaded cargo using Brute Force Method:\n",
            " 220\n",
            "Selected items using Brute Force Method:\n",
            " [(100, 20), (120, 30)]\n"
          ]
        }
      ]
    },
    {
      "cell_type": "markdown",
      "source": [
        "Lets try another output. Different values and larger weight capacity."
      ],
      "metadata": {
        "id": "fGhXh168QZFt"
      },
      "id": "fGhXh168QZFt"
    },
    {
      "cell_type": "code",
      "source": [
        "values = [600, 120, 140, 220, 100]\n",
        "weights = [76, 12, 23,45, 34]\n",
        "capacity = 250 # Maximum weight\n",
        "\n",
        "total_value, selected_items = cargo_loading_brute_force(values, weights, capacity)\n",
        "print(\"Total value of loaded cargo using Brute Force Method:\\n\", total_value)\n",
        "print(\"Selected items using Brute Force Method:\\n\", [(values[i], weights[i]) for i in selected_items])"
      ],
      "metadata": {
        "colab": {
          "base_uri": "https://localhost:8080/"
        },
        "id": "BDMeowZHQgnj",
        "outputId": "3b618329-b29c-4fff-c138-f5b288d8db26"
      },
      "id": "BDMeowZHQgnj",
      "execution_count": null,
      "outputs": [
        {
          "output_type": "stream",
          "name": "stdout",
          "text": [
            "Weight of cargo currently holds:\n",
            " 190\n",
            "Total value of loaded cargo using Brute Force Method:\n",
            " 1180\n",
            "Selected items using Brute Force Method:\n",
            " [(600, 76), (120, 12), (140, 23), (220, 45), (100, 34)]\n"
          ]
        }
      ]
    },
    {
      "cell_type": "markdown",
      "id": "8bbdd39c",
      "metadata": {
        "id": "8bbdd39c"
      },
      "source": [
        "#### Conclusion:"
      ]
    },
    {
      "cell_type": "markdown",
      "id": "fb608ce3",
      "metadata": {
        "id": "fb608ce3"
      },
      "source": [
        "#type your conclusion here"
      ]
    },
    {
      "cell_type": "markdown",
      "source": [
        "Solving Optimization and Knapsack problems was a fun and immerisive activity. At first the problem I wanted to solve was not very broad, but after some thinking I was able to come up with this problem as I face it almost everyday with how to carry a large amount of cargo (AKA my dirty laundry) from point a to point b efficiently (From my dorm to my laundermat) while maximizing the space and weight. Creating the code was a whole other different experience, I was never good with coding in the first place but with a little studying, a little research, and a little brain power I was able to create this code."
      ],
      "metadata": {
        "id": "v3fbOlnoUCo-"
      },
      "id": "v3fbOlnoUCo-"
    }
  ],
  "metadata": {
    "kernelspec": {
      "display_name": "Python 3",
      "language": "python",
      "name": "python3"
    },
    "language_info": {
      "codemirror_mode": {
        "name": "ipython",
        "version": 3
      },
      "file_extension": ".py",
      "mimetype": "text/x-python",
      "name": "python",
      "nbconvert_exporter": "python",
      "pygments_lexer": "ipython3",
      "version": "3.7.10"
    },
    "colab": {
      "provenance": [],
      "include_colab_link": true
    }
  },
  "nbformat": 4,
  "nbformat_minor": 5
}